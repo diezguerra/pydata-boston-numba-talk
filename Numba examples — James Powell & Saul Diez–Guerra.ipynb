{
 "metadata": {
  "name": "Numba examples \u2014 James Powell & Saul Diez\u2013Guerra"
 },
 "nbformat": 3,
 "nbformat_minor": 0,
 "worksheets": [
  {
   "cells": [
    {
     "cell_type": "heading",
     "level": 1,
     "metadata": {},
     "source": [
      "Numba examples"
     ]
    },
    {
     "cell_type": "heading",
     "level": 2,
     "metadata": {},
     "source": [
      "Euler 1"
     ]
    },
    {
     "cell_type": "heading",
     "level": 3,
     "metadata": {},
     "source": [
      "Python"
     ]
    },
    {
     "cell_type": "code",
     "collapsed": false,
     "input": [
      "def euler_1(limit):\n",
      "    result = 0\n",
      "    for number in xrange(limit + 1):\n",
      "        if not number % 3 or not number % 5:\n",
      "            result += number\n",
      "    return result\n",
      "\n",
      "\n",
      "assert euler_1(10) == 33\n",
      "\n",
      "\n",
      "print \"Euler 1, python:\", \n",
      "%timeit -n100 euler_1(10000)"
     ],
     "language": "python",
     "metadata": {},
     "outputs": [
      {
       "output_type": "stream",
       "stream": "stdout",
       "text": [
        "Euler 1, python: "
       ]
      },
      {
       "output_type": "stream",
       "stream": "stdout",
       "text": [
        "100 loops, best of 3: 1.22 ms per loop\n"
       ]
      }
     ],
     "prompt_number": 2
    },
    {
     "cell_type": "heading",
     "level": 3,
     "metadata": {},
     "source": [
      "Python generator"
     ]
    },
    {
     "cell_type": "code",
     "collapsed": false,
     "input": [
      "def euler_1_gen(limit):\n",
      "    return sum(\n",
      "        number for number in xrange(limit + 1) \n",
      "        if not number % 3 or not number % 5); \n",
      "\n",
      "\n",
      "assert euler_1_gen(10) == 33\n",
      "\n",
      "\n",
      "print \"Euler 1, generator:\", \n",
      "%timeit -n100 euler_1_gen(10000)"
     ],
     "language": "python",
     "metadata": {},
     "outputs": [
      {
       "output_type": "stream",
       "stream": "stdout",
       "text": [
        "Euler 1, generator: "
       ]
      },
      {
       "output_type": "stream",
       "stream": "stdout",
       "text": [
        "100 loops, best of 3: 1.3 ms per loop\n"
       ]
      }
     ],
     "prompt_number": 3
    },
    {
     "cell_type": "heading",
     "level": 3,
     "metadata": {},
     "source": [
      "Numba, default autojit"
     ]
    },
    {
     "cell_type": "code",
     "collapsed": false,
     "input": [
      "from numba.decorators import autojit\n",
      "\n",
      "\n",
      "@autojit\n",
      "def euler_autojit(limit):\n",
      "    result = 0\n",
      "    for number in xrange(limit):\n",
      "        if not number % 3 or not number % 5:\n",
      "            result += number\n",
      "    return result\n",
      "\n",
      "\n",
      "assert euler_autojit(10) == 23\n",
      "\n",
      "\n",
      "print \"Euler 1, default autojit:\", \n",
      "%timeit -n100 euler_autojit(10000)"
     ],
     "language": "python",
     "metadata": {},
     "outputs": [
      {
       "output_type": "stream",
       "stream": "stdout",
       "text": [
        "Euler 1, default autojit:"
       ]
      },
      {
       "output_type": "stream",
       "stream": "stdout",
       "text": [
        " 100 loops, best of 3: 174 us per loop\n"
       ]
      }
     ],
     "prompt_number": 4
    },
    {
     "cell_type": "heading",
     "level": 3,
     "metadata": {},
     "source": [
      "Numba Autojit, locals"
     ]
    },
    {
     "cell_type": "code",
     "collapsed": false,
     "input": [
      "from numba import int32, int64\n",
      "\n",
      "\n",
      "@autojit(locals={'result': int32, 'number': int32})\n",
      "def euler_autojit_locals(limit):\n",
      "    result = 0\n",
      "    for number in xrange(limit):\n",
      "        if not number % 3 or not number % 5:\n",
      "            result += number\n",
      "    return result\n",
      "\n",
      "\n",
      "assert euler_autojit_locals(10) == 23\n",
      "\n",
      "\n",
      "print \"Euler 1, autojit with locals:\", \n",
      "%timeit -n100 euler_autojit_locals(10000)"
     ],
     "language": "python",
     "metadata": {},
     "outputs": [
      {
       "output_type": "stream",
       "stream": "stdout",
       "text": [
        "Euler 1, autojit with locals:"
       ]
      },
      {
       "output_type": "stream",
       "stream": "stdout",
       "text": [
        " 100 loops, best of 3: 63.2 us per loop\n"
       ]
      }
     ],
     "prompt_number": 5
    },
    {
     "cell_type": "heading",
     "level": 3,
     "metadata": {},
     "source": [
      "Comparison"
     ]
    },
    {
     "cell_type": "code",
     "collapsed": false,
     "input": [
      "print \"Euler 1, python:\".ljust(30), \n",
      "%timeit -n100 euler_1(10000)\n",
      "print \"Euler 1, generator:\".ljust(30), \n",
      "%timeit -n100 euler_1_gen(10000)\n",
      "print \"Euler 1, default autojit:\".ljust(30), \n",
      "%timeit -n100 euler_autojit(10000)\n",
      "print \"Euler 1, autojit with locals:\".ljust(30), \n",
      "%timeit -n100 euler_autojit_locals(10000)"
     ],
     "language": "python",
     "metadata": {},
     "outputs": [
      {
       "output_type": "stream",
       "stream": "stdout",
       "text": [
        "Euler 1, python:               "
       ]
      },
      {
       "output_type": "stream",
       "stream": "stdout",
       "text": [
        "100 loops, best of 3: 1.23 ms per loop\n",
        "Euler 1, generator:            "
       ]
      },
      {
       "output_type": "stream",
       "stream": "stdout",
       "text": [
        "100 loops, best of 3: 1.35 ms per loop\n",
        "Euler 1, default autojit:      "
       ]
      },
      {
       "output_type": "stream",
       "stream": "stdout",
       "text": [
        "100 loops, best of 3: 173 us per loop\n",
        "Euler 1, autojit with locals:  100 loops, best of 3: 64.4 us per loop\n"
       ]
      }
     ],
     "prompt_number": 6
    },
    {
     "cell_type": "code",
     "collapsed": false,
     "input": [
      "1230 / 64.2"
     ],
     "language": "python",
     "metadata": {},
     "outputs": [
      {
       "output_type": "pyout",
       "prompt_number": 7,
       "text": [
        "19.158878504672895"
       ]
      }
     ],
     "prompt_number": 7
    },
    {
     "cell_type": "heading",
     "level": 2,
     "metadata": {},
     "source": [
      "Prime tester"
     ]
    },
    {
     "cell_type": "heading",
     "level": 3,
     "metadata": {},
     "source": [
      "Python"
     ]
    },
    {
     "cell_type": "code",
     "collapsed": false,
     "input": [
      "from math import sqrt, ceil\n",
      "\n",
      "\n",
      "def is_prime(number):\n",
      "    if number < 4:\n",
      "        return True\n",
      "    \n",
      "    for testing in xrange(2, int(ceil(sqrt(number))) + 1):\n",
      "        if number % testing == 0:\n",
      "            return False\n",
      "    \n",
      "    return True\n",
      "\n",
      "assert is_prime(2147483647)      # Euler's Marsenne prime!\n",
      "assert not is_prime(2147483648)\n",
      "\n",
      "print \"Prime tester, python:\", \n",
      "%timeit -n100 is_prime(2147483647)"
     ],
     "language": "python",
     "metadata": {},
     "outputs": [
      {
       "output_type": "stream",
       "stream": "stdout",
       "text": [
        "Prime tester, python: "
       ]
      },
      {
       "output_type": "stream",
       "stream": "stdout",
       "text": [
        "100 loops, best of 3: 3.02 ms per loop\n"
       ]
      }
     ],
     "prompt_number": 9
    },
    {
     "cell_type": "heading",
     "level": 3,
     "metadata": {},
     "source": [
      "Python generator"
     ]
    },
    {
     "cell_type": "code",
     "collapsed": false,
     "input": [
      "from __builtin__ import all\n",
      "\n",
      "def is_prime_gen(number):\n",
      "    return number < 4 or all(\n",
      "        number % testing for testing\n",
      "        in xrange(2, int(ceil(sqrt(number))) + 1))\n",
      "\n",
      "\n",
      "assert is_prime_gen(2147483647)      # Euler's Marsenne prime!\n",
      "assert not is_prime_gen(2147483648)\n",
      "\n",
      "\n",
      "print \"Prime tester, generator:\", \n",
      "%timeit -n100 is_prime_gen(2147483647)"
     ],
     "language": "python",
     "metadata": {},
     "outputs": [
      {
       "output_type": "stream",
       "stream": "stdout",
       "text": [
        "Prime tester, generator: "
       ]
      },
      {
       "output_type": "stream",
       "stream": "stdout",
       "text": [
        "100 loops, best of 3: 3.75 ms per loop\n"
       ]
      }
     ],
     "prompt_number": 11
    },
    {
     "cell_type": "heading",
     "level": 3,
     "metadata": {},
     "source": [
      "Numba, default autojit"
     ]
    },
    {
     "cell_type": "code",
     "collapsed": false,
     "input": [
      "from math import sqrt, ceil\n",
      "\n",
      "from numba.decorators import autojit\n",
      "\n",
      "\n",
      "@autojit\n",
      "def is_prime_autojit(number):\n",
      "    if number < 4:\n",
      "        return True\n",
      "    \n",
      "    for testing in xrange(2, int(ceil(sqrt(number))) + 1):\n",
      "        if number % testing == 0:\n",
      "            return False\n",
      "    \n",
      "    return True\n",
      "\n",
      "\n",
      "assert is_prime_autojit(2147483647)      # Euler's Marsenne prime! 1772\tLeonhard Euler[22][23]\tEnhanced trial division[24]\n",
      "assert not is_prime_autojit(2147483648L) # We had to make it a long for numba!\n",
      "\n",
      "\n",
      "print \"Prime tester, default autojit:\", \n",
      "%timeit -n100 is_prime_autojit(2147483647)"
     ],
     "language": "python",
     "metadata": {},
     "outputs": [
      {
       "output_type": "stream",
       "stream": "stdout",
       "text": [
        "Prime tester, default autojit:"
       ]
      },
      {
       "output_type": "stream",
       "stream": "stdout",
       "text": [
        " 100 loops, best of 3: 452 us per loop\n"
       ]
      }
     ],
     "prompt_number": 12
    },
    {
     "cell_type": "heading",
     "level": 3,
     "metadata": {},
     "source": [
      "Numba, autojit with locals"
     ]
    },
    {
     "cell_type": "code",
     "collapsed": false,
     "input": [
      "from math import sqrt, ceil\n",
      "\n",
      "from numba.decorators import autojit\n",
      "from numba import int64, int32\n",
      "\n",
      "@autojit(locals={'testing': int32})\n",
      "def is_prime_autolocals(number):\n",
      "    if number < 4:\n",
      "        return True\n",
      "    \n",
      "    for testing in xrange(4, int(ceil(sqrt(number))) + 1):\n",
      "        if number % testing == 0:\n",
      "            return False\n",
      "    \n",
      "    return True\n",
      "\n",
      "\n",
      "assert is_prime_autolocals(2147483647)      # Euler's Marsenne prime! 1772\tLeonhard Euler[22][23]\tEnhanced trial division[24]\n",
      "assert not is_prime_autolocals(2147483648L) # We had to make it a long for numba!\n",
      "\n",
      "\n",
      "print \"Prime tester: autojit with locals:\", \n",
      "%timeit -n100 is_prime_autolocals(2147483647)"
     ],
     "language": "python",
     "metadata": {},
     "outputs": [
      {
       "output_type": "stream",
       "stream": "stdout",
       "text": [
        "Prime tester: autojit with locals:"
       ]
      },
      {
       "output_type": "stream",
       "stream": "stdout",
       "text": [
        " 100 loops, best of 3: 181 us per loop\n"
       ]
      }
     ],
     "prompt_number": 13
    },
    {
     "cell_type": "heading",
     "level": 3,
     "metadata": {},
     "source": [
      "Comparison"
     ]
    },
    {
     "cell_type": "code",
     "collapsed": false,
     "input": [
      "print \"Prime tester, python:\".ljust(40), \n",
      "%timeit -n100 is_prime(2147483647)\n",
      "print \"Prime tester, generator:\".ljust(40), \n",
      "%timeit -n100 is_prime_gen(2147483647)\n",
      "print \"Prime tester, default autojit:\".ljust(40), \n",
      "%timeit -n100 is_prime_autojit(2147483647)\n",
      "print \"Prime tester: autojit with locals:\".ljust(40), \n",
      "%timeit -n100 is_prime_autolocals(2147483647)"
     ],
     "language": "python",
     "metadata": {},
     "outputs": [
      {
       "output_type": "stream",
       "stream": "stdout",
       "text": [
        "Prime tester, python:                    "
       ]
      },
      {
       "output_type": "stream",
       "stream": "stdout",
       "text": [
        "100 loops, best of 3: 3.26 ms per loop\n",
        "Prime tester, generator:                 "
       ]
      },
      {
       "output_type": "stream",
       "stream": "stdout",
       "text": [
        "100 loops, best of 3: 4.11 ms per loop\n",
        "Prime tester, default autojit:           "
       ]
      },
      {
       "output_type": "stream",
       "stream": "stdout",
       "text": [
        "100 loops, best of 3: 448 us per loop\n",
        "Prime tester: autojit with locals:       "
       ]
      },
      {
       "output_type": "stream",
       "stream": "stdout",
       "text": [
        "100 loops, best of 3: 179 us per loop\n"
       ]
      }
     ],
     "prompt_number": 14
    },
    {
     "cell_type": "code",
     "collapsed": false,
     "input": [
      "3260 / 179."
     ],
     "language": "python",
     "metadata": {},
     "outputs": [
      {
       "output_type": "pyout",
       "prompt_number": 16,
       "text": [
        "18.212290502793294"
       ]
      }
     ],
     "prompt_number": 16
    },
    {
     "cell_type": "heading",
     "level": 2,
     "metadata": {},
     "source": [
      "Area"
     ]
    },
    {
     "cell_type": "code",
     "collapsed": false,
     "input": [
      "\"\"\"\n",
      "X\n",
      "X\n",
      "X\n",
      "XXXX\n",
      "\n",
      "\"\"\"\n",
      "L = [(0, 0), (4, 0), (4, 1), (1, 1), (1, 4), (0, 4), (0, 0)]\n",
      "\n",
      "\"\"\"\n",
      "\n",
      "XXXX\n",
      "X\n",
      "XXXX\n",
      "   X\n",
      "XXXX\n",
      "\n",
      "\"\"\"\n",
      "S = [(0, 0), (4, 0), (4, 3), (1, 3), (1, 4), (4, 4), (4, 5), (0, 5), (0, 2), (3, 2), (3, 1), (0, 1), (0, 0)]\n",
      "\n",
      "\"\"\" \n",
      "   X\n",
      "  X\n",
      " X\n",
      "X\n",
      "\"\"\"\n",
      "\n",
      "I = [(0, 0), (1, 0), (1, 1), (2, 1), (2, 2), (3, 2), (3, 3), (4, 3), (4, 4), (3, 4), (3, 3), (2, 3), (2, 2), (1, 2), (1, 1), (0, 1), (0, 0)]\n",
      "\n",
      "def diag_gen(length):\n",
      "    points = [(0, 0)]\n",
      "    for _ in range(1, length + 1):\n",
      "        points.append((points[-1][0] + 1, points[-1][1]))\n",
      "        points.append((points[-1][0], points[-1][1] + 1))\n",
      "    for _ in range(1, length + 1):\n",
      "        points.append((points[-1][0] - 1, points[-1][1]))\n",
      "        points.append((points[-1][0], points[-1][1] - 1))\n",
      "    return points\n",
      "        "
     ],
     "language": "python",
     "metadata": {},
     "outputs": [],
     "prompt_number": 14
    },
    {
     "cell_type": "heading",
     "level": 3,
     "metadata": {},
     "source": [
      "Python"
     ]
    },
    {
     "cell_type": "code",
     "collapsed": false,
     "input": [
      "def area(points):\n",
      "    pos = 0\n",
      "    neg = 0\n",
      "    for index, point in enumerate(points[:-1]):\n",
      "        pos += point[0]*points[index + 1][1]\n",
      "        neg += point[1]*points[index + 1][0]\n",
      "    \n",
      "    retval = (pos - neg) / 2\n",
      "    return retval if retval > 0 else -retval\n",
      "\n",
      "\n",
      "assert area(L) == 7\n",
      "assert area(S) == 14\n",
      "assert area(diag_gen(14)) == 14\n",
      "\n",
      "\n",
      "d1000 = diag_gen(1000)\n",
      "print \"Area, python:\", \n",
      "%timeit -n100 area(d1000)"
     ],
     "language": "python",
     "metadata": {},
     "outputs": [
      {
       "output_type": "stream",
       "stream": "stdout",
       "text": [
        "Area, python: "
       ]
      },
      {
       "output_type": "stream",
       "stream": "stdout",
       "text": [
        "100 loops, best of 3: 1.61 ms per loop\n"
       ]
      }
     ],
     "prompt_number": 15
    },
    {
     "cell_type": "heading",
     "level": 3,
     "metadata": {},
     "source": [
      "Numba, default autojit"
     ]
    },
    {
     "cell_type": "code",
     "collapsed": false,
     "input": [
      "from numba.decorators import autojit\n",
      "\n",
      "\n",
      "@autojit\n",
      "def area_autojit(points):\n",
      "    pos = 0\n",
      "    neg = 0\n",
      "    for index in xrange(len(points) - 1):\n",
      "        pos += points[index][0] * points[index + 1][1]\n",
      "        neg += points[index][1] * points[index + 1][0]\n",
      "    \n",
      "    retval = (pos - neg) / 2\n",
      "    return retval if retval > 0 else -retval\n",
      "\n",
      "\n",
      "assert area_autojit(L) == 7\n",
      "assert area_autojit(S) == 14\n",
      "assert area_autojit(diag_gen(100)) == 100\n",
      "\n",
      "\n",
      "d1000 = diag_gen(1000)\n",
      "print \"Area, python:\", \n",
      "%timeit -n100 area_autojit(d1000)"
     ],
     "language": "python",
     "metadata": {},
     "outputs": [
      {
       "output_type": "stream",
       "stream": "stdout",
       "text": [
        "Area, python: "
       ]
      },
      {
       "output_type": "stream",
       "stream": "stdout",
       "text": [
        "100 loops, best of 3: 2.17 ms per loop\n"
       ]
      }
     ],
     "prompt_number": 16
    },
    {
     "cell_type": "code",
     "collapsed": false,
     "input": [
      "from numba.decorators import autojit\n",
      "from numba import int64\n",
      "import numpy as np\n",
      "\n",
      "@autojit(locals={'pos': int64, 'neg': int64, 'retval': int64})\n",
      "def area_autojit(points):\n",
      "    pos = 0\n",
      "    neg = 0\n",
      "    for index in xrange(len(points) - 1):\n",
      "        pos += points[index][0] * points[index + 1][1]\n",
      "        neg += points[index][1] * points[index + 1][0]\n",
      "    \n",
      "    retval = (pos - neg) / 2\n",
      "    return retval if retval > 0 else -retval\n",
      "\n",
      "\n",
      "assert area_autojit(L) == 7\n",
      "assert area_autojit(S) == 14\n",
      "assert area_autojit(diag_gen(100)) == 100\n",
      "\n",
      "\n",
      "d1000 = diag_gen(1000)\n",
      "print \"Area, python:\", \n",
      "%timeit -n100 area_autojit(d1000)"
     ],
     "language": "python",
     "metadata": {},
     "outputs": [
      {
       "output_type": "stream",
       "stream": "stdout",
       "text": [
        "Area, python: "
       ]
      },
      {
       "output_type": "stream",
       "stream": "stdout",
       "text": [
        "100 loops, best of 3: 2.65 ms per loop\n"
       ]
      }
     ],
     "prompt_number": 17
    },
    {
     "cell_type": "heading",
     "level": 2,
     "metadata": {},
     "source": [
      "Mandelbrot"
     ]
    },
    {
     "cell_type": "heading",
     "level": 3,
     "metadata": {},
     "source": [
      "Python"
     ]
    },
    {
     "cell_type": "code",
     "collapsed": false,
     "input": [
      "from __future__ import division, absolute_import\n",
      "import numpy as np\n",
      "\n",
      "\n",
      "def mandel(x, y, max_iters):\n",
      "    \"\"\"\n",
      "    Given the real and imaginary parts of a complex number,\n",
      "    determine if it is a candidate for membership in the Mandelbrot\n",
      "    set given a fixed number of iterations.\n",
      "    \"\"\"\n",
      "    i = 0\n",
      "    c = complex(x,y)\n",
      "    z = 0.0j\n",
      "    for i in range(max_iters):\n",
      "        z = z*z + c\n",
      "        if (z.real*z.real + z.imag*z.imag) >= 4:\n",
      "            return i\n",
      "\n",
      "    return 255\n",
      "\n",
      "\n",
      "def create_fractal(min_x, max_x, min_y, max_y, image, iters):\n",
      "    height = image.shape[0]\n",
      "    width = image.shape[1]\n",
      "\n",
      "    pixel_size_x = (max_x - min_x) / width\n",
      "    pixel_size_y = (max_y - min_y) / height\n",
      "    for x in range(width):\n",
      "        real = min_x + x * pixel_size_x\n",
      "        for y in range(height):\n",
      "            imag = min_y + y * pixel_size_y\n",
      "            color = mandel(real, imag, iters)\n",
      "            image[y, x] = color\n",
      "\n",
      "    return image\n",
      "\n",
      "image = np.zeros((500, 750), dtype=np.uint8)\n",
      "\n",
      "print \"Mandelbrot, python:\", \n",
      "%timeit -n1 create_fractal(-2.0, 1.0, -1.0, 1.0, image, 20)"
     ],
     "language": "python",
     "metadata": {},
     "outputs": [
      {
       "output_type": "stream",
       "stream": "stdout",
       "text": [
        "Mandelbrot, python: "
       ]
      },
      {
       "output_type": "stream",
       "stream": "stdout",
       "text": [
        "1 loops, best of 3: 1.86 s per loop\n"
       ]
      }
     ],
     "prompt_number": 17
    },
    {
     "cell_type": "code",
     "collapsed": false,
     "input": [
      "from __future__ import division, absolute_import\n",
      "from numba import autojit\n",
      "import numpy as np\n",
      "\n",
      "\n",
      "@autojit\n",
      "def mandel_autojit(x, y, max_iters):\n",
      "    \"\"\"\n",
      "    Given the real and imaginary parts of a complex number,\n",
      "    determine if it is a candidate for membership in the Mandelbrot\n",
      "    set given a fixed number of iterations.\n",
      "    \"\"\"\n",
      "    i = 0\n",
      "    c = complex(x,y)\n",
      "    z = 0.0j\n",
      "    for i in range(max_iters):\n",
      "        z = z*z + c\n",
      "        if (z.real*z.real + z.imag*z.imag) >= 4:\n",
      "            return i\n",
      "\n",
      "    return 255\n",
      "\n",
      "@autojit\n",
      "def create_fractal_autojit(min_x, max_x, min_y, max_y, image, iters):\n",
      "    height = image.shape[0]\n",
      "    width = image.shape[1]\n",
      "\n",
      "    pixel_size_x = (max_x - min_x) / width\n",
      "    pixel_size_y = (max_y - min_y) / height\n",
      "    for x in range(width):\n",
      "        real = min_x + x * pixel_size_x\n",
      "        for y in range(height):\n",
      "            imag = min_y + y * pixel_size_y\n",
      "            color = mandel_autojit(real, imag, iters)\n",
      "            image[y, x] = color\n",
      "\n",
      "    return image\n",
      "\n",
      "image = np.zeros((500, 750), dtype=np.uint8)\n",
      "print \"Mandelbrot, autojit:\", \n",
      "%timeit -n1 create_fractal_autojit(-2.0, 1.0, -1.0, 1.0, image, 20)"
     ],
     "language": "python",
     "metadata": {},
     "outputs": [
      {
       "output_type": "stream",
       "stream": "stdout",
       "text": [
        "Mandelbrot, autojit:"
       ]
      },
      {
       "output_type": "stream",
       "stream": "stdout",
       "text": [
        " 1 loops, best of 3: 11.9 ms per loop\n"
       ]
      }
     ],
     "prompt_number": 18
    },
    {
     "cell_type": "heading",
     "level": 3,
     "metadata": {},
     "source": [
      "Comparison"
     ]
    },
    {
     "cell_type": "code",
     "collapsed": false,
     "input": [
      "print \"Mandelbrot, python:\".ljust(30), \n",
      "%timeit -n1 create_fractal(-2.0, 1.0, -1.0, 1.0, image, 20)\n",
      "print \"Mandelbrot, autojit:\".ljust(30), \n",
      "image = np.zeros((500, 750), dtype=np.uint8)\n",
      "%timeit -n1 create_fractal_autojit(-2.0, 1.0, -1.0, 1.0, image, 20)"
     ],
     "language": "python",
     "metadata": {},
     "outputs": [
      {
       "output_type": "stream",
       "stream": "stdout",
       "text": [
        "Mandelbrot, python:            "
       ]
      },
      {
       "output_type": "stream",
       "stream": "stdout",
       "text": [
        "1 loops, best of 3: 1.84 s per loop\n",
        "Mandelbrot, autojit:           1 loops, best of 3: 11.8 ms per loop\n"
       ]
      }
     ],
     "prompt_number": 19
    },
    {
     "cell_type": "code",
     "collapsed": false,
     "input": [
      "1840 / 11.8"
     ],
     "language": "python",
     "metadata": {},
     "outputs": [
      {
       "output_type": "pyout",
       "prompt_number": 21,
       "text": [
        "155.9322033898305"
       ]
      }
     ],
     "prompt_number": 21
    },
    {
     "cell_type": "heading",
     "level": 3,
     "metadata": {},
     "source": [
      "What does it look like?"
     ]
    },
    {
     "cell_type": "code",
     "collapsed": false,
     "input": [
      "from pylab import imshow, jet, show, ion\n",
      "\n",
      "imshow(create_fractal(-2.0, 1.0, -1.0, 1.0, image, 20))\n",
      "jet()\n",
      "ion()\n",
      "show()"
     ],
     "language": "python",
     "metadata": {},
     "outputs": [
      {
       "output_type": "display_data",
       "png": "[encoded data removed]"
      }
     ],
     "prompt_number": 22
    },
    {
     "cell_type": "code",
     "collapsed": false,
     "input": [],
     "language": "python",
     "metadata": {},
     "outputs": []
    }
   ],
   "metadata": {}
  }
 ]
}